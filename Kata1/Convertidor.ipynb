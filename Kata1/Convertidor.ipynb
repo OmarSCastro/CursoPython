{
 "cells": [
  {
   "cell_type": "markdown",
   "metadata": {},
   "source": [
    "Convertidor de parcesc a años luz"
   ]
  },
  {
   "cell_type": "code",
   "execution_count": 1,
   "metadata": {},
   "outputs": [
    {
     "name": "stdout",
     "output_type": "stream",
     "text": [
      "El dia de hoy:  2022-02-13\n",
      "Parsec: 11\n",
      "Años luz: 35.877159999999996\n"
     ]
    }
   ],
   "source": [
    "from datetime import date \n",
    "print (\"El dia de hoy: \",date.today())\n",
    "parsec=11\n",
    "años_luz=0\n",
    "años_luz=parsec*3.26156\n",
    "print(\"Parsec: \"+str(parsec))\n",
    "print(\"Años luz: \"+ str(años_luz))"
   ]
  }
 ],
 "metadata": {
  "interpreter": {
   "hash": "7ffe099857eb267427c638778c9ca67e17f1b3f3bea6ca478a8a728487ebe9aa"
  },
  "kernelspec": {
   "display_name": "Python 3.10.2 64-bit",
   "language": "python",
   "name": "python3"
  },
  "language_info": {
   "codemirror_mode": {
    "name": "ipython",
    "version": 3
   },
   "file_extension": ".py",
   "mimetype": "text/x-python",
   "name": "python",
   "nbconvert_exporter": "python",
   "pygments_lexer": "ipython3",
   "version": "3.10.2"
  },
  "orig_nbformat": 4
 },
 "nbformat": 4,
 "nbformat_minor": 2
}
