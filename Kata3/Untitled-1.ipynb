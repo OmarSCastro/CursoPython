{
 "cells": [
  {
   "cell_type": "markdown",
   "metadata": {},
   "source": [
    "Declaraciones if, else, elif  PROBLEMA 1"
   ]
  },
  {
   "cell_type": "code",
   "execution_count": 3,
   "metadata": {},
   "outputs": [
    {
     "name": "stdout",
     "output_type": "stream",
     "text": [
      "TIERRA A SALVO\n"
     ]
    }
   ],
   "source": [
    "a=49\n",
    "if a>=20:\n",
    "    print(\"***ADVERTENCIA***\")\n",
    "    print(\"TIERRA EN PELIGRO\")\n",
    "else:\n",
    "    print(\"TIERRA A SALVO\")"
   ]
  },
  {
   "cell_type": "markdown",
   "metadata": {},
   "source": [
    "Declaraciones if, else, elif PROBLEMA 2"
   ]
  },
  {
   "cell_type": "code",
   "execution_count": 4,
   "metadata": {},
   "outputs": [
    {
     "name": "stdout",
     "output_type": "stream",
     "text": [
      "TIERRA A SALVO\n"
     ]
    }
   ],
   "source": [
    "a=19\n",
    "if a>20:\n",
    "    print(\"RAYO DE LUZ EN EL CIELO VISIBLE \")\n",
    "elif a==20:\n",
    "    print(\"RAYO DE LUZ EN EL CIELO VISIBLE \")\n",
    "else:\n",
    "    print(\"TIERRA A SALVO\")"
   ]
  },
  {
   "cell_type": "markdown",
   "metadata": {},
   "source": [
    "Condiciones or, and PROBLEMA 3"
   ]
  },
  {
   "cell_type": "code",
   "execution_count": 6,
   "metadata": {},
   "outputs": [
    {
     "name": "stdout",
     "output_type": "stream",
     "text": [
      "Daño aproximandose a la tierra\n",
      "Rayo de luz en el cielo visible\n"
     ]
    }
   ],
   "source": [
    "velocidad=22\n",
    "tamano=32\n",
    "if tamano<25:\n",
    "    print(\"Asteroide quemado en la atmosfera\")\n",
    "elif tamano>25 and tamano<1000:\n",
    "    print(\"Daño aproximandose a la tierra\")\n",
    "if velocidad>=25:\n",
    "    print(\"Tierra en peligro\")\n",
    "if velocidad>=20:\n",
    "    print (\"Rayo de luz en el cielo visible\")"
   ]
  }
 ],
 "metadata": {
  "interpreter": {
   "hash": "7ffe099857eb267427c638778c9ca67e17f1b3f3bea6ca478a8a728487ebe9aa"
  },
  "kernelspec": {
   "display_name": "Python 3.10.2 64-bit",
   "language": "python",
   "name": "python3"
  },
  "language_info": {
   "codemirror_mode": {
    "name": "ipython",
    "version": 3
   },
   "file_extension": ".py",
   "mimetype": "text/x-python",
   "name": "python",
   "nbconvert_exporter": "python",
   "pygments_lexer": "ipython3",
   "version": "3.10.2"
  },
  "orig_nbformat": 4
 },
 "nbformat": 4,
 "nbformat_minor": 2
}
