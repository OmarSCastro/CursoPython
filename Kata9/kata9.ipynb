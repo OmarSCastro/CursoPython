{
 "cells": [
  {
   "cell_type": "markdown",
   "metadata": {},
   "source": [
    "# Ejercicio: Uso de funciones en Python"
   ]
  },
  {
   "cell_type": "code",
   "execution_count": 5,
   "metadata": {},
   "outputs": [],
   "source": [
    "# Función para leer 3 tanques de combustible y muestre el promedio\n",
    "def informe_combustible(tanque1, tanque2, tanque3):\n",
    "  return (tanque1 + tanque2 + tanque3) / 3"
   ]
  },
  {
   "cell_type": "code",
   "execution_count": 6,
   "metadata": {},
   "outputs": [
    {
     "name": "stdout",
     "output_type": "stream",
     "text": [
      "2.0\n"
     ]
    }
   ],
   "source": [
    "# Llamada de la función\n",
    "print(informe_combustible(2, 2, 2))"
   ]
  },
  {
   "cell_type": "code",
   "execution_count": 7,
   "metadata": {},
   "outputs": [
    {
     "data": {
      "text/plain": [
       "82.0"
      ]
     },
     "execution_count": 7,
     "metadata": {},
     "output_type": "execute_result"
    }
   ],
   "source": [
    "# Función promedio\n",
    "def promedio(values):\n",
    "  total = sum(values)\n",
    "  total_valores = len(values)\n",
    "  return total / total_valores\n",
    "\n",
    "promedio([80, 85, 81])"
   ]
  },
  {
   "cell_type": "code",
   "execution_count": 8,
   "metadata": {},
   "outputs": [
    {
     "name": "stdout",
     "output_type": "stream",
     "text": [
      "Fuel Report:\n",
      "  Total Average: 78.0%\n",
      "  Main tank: 88%\n",
      "  External tank: 76%\n",
      "  Hydrogen tank: 70% \n",
      "  \n"
     ]
    }
   ],
   "source": [
    "# Crear la función de reporte\n",
    "def reporte(tanque1, tanque2, tanque3):\n",
    "  return f\"\"\"Fuel Report:\n",
    "  Total Average: {promedio([tanque1, tanque2, tanque3])}%\n",
    "  Main tank: {tanque1}%\n",
    "  External tank: {tanque2}%\n",
    "  Hydrogen tank: {tanque3}% \n",
    "  \"\"\"\n",
    "\n",
    "# Call the updated function again with different values\n",
    "print(reporte(88, 76, 70))"
   ]
  },
  {
   "cell_type": "markdown",
   "metadata": {},
   "source": [
    "# Ejercicio 2: Trabajo con argumentos de palabra clave"
   ]
  },
  {
   "cell_type": "code",
   "execution_count": 11,
   "metadata": {},
   "outputs": [
    {
     "name": "stdout",
     "output_type": "stream",
     "text": [
      "\n",
      "  Mision a Moon\n",
      "  Total de tiempo viajado: 65 minutos\n",
      "  Total de combustible disponible: 500000 galones\n",
      "  \n"
     ]
    }
   ],
   "source": [
    "# Función con un informe preciso de la misión. Considera hora de prelanzamiento, tiempo de vuelo, destino, tanque externo y tanque interno\n",
    "\n",
    "def reporte_mision(prelanzamiento, tiempo_vuelo, destino, tanque_externo, tanque_interno):\n",
    "  return f\"\"\"\n",
    "  Mision a {destino}\n",
    "  Total de tiempo viajado: {prelanzamiento + tiempo_vuelo} minutos\n",
    "  Total de combustible disponible: {tanque_externo + tanque_interno} galones\n",
    "  \"\"\"\n",
    "\n",
    "print(reporte_mision(14, 51, \"Moon\", 200000, 300000))"
   ]
  },
  {
   "cell_type": "code",
   "execution_count": null,
   "metadata": {},
   "outputs": [],
   "source": [
    "# Escribe tu nueva función de reporte considerando lo anterior\n",
    "def mission_report(destination, *minutes, **fuel_reservoirs):\n",
    "  return f\"\"\"\n",
    "  Mission to {destination}\n",
    "  Total travel time: {sum(minutes)} minutes\n",
    "  Total fuel left: {sum(fuel_reservoirs.values())}\n",
    "  \"\"\"\n",
    "\n",
    "print(mission_report(\"Moon\", 10, 15, 51, main=300000, external=200000))"
   ]
  },
  {
   "cell_type": "code",
   "execution_count": 12,
   "metadata": {},
   "outputs": [
    {
     "name": "stdout",
     "output_type": "stream",
     "text": [
      "\n",
      "  Mission to Moon\n",
      "  Total travel time: 74 minutes\n",
      "  Total fuel left: 500000\n",
      "  main tank --> 300000 gallons left\n",
      "external tank --> 200000 gallons left\n",
      "\n"
     ]
    }
   ],
   "source": [
    "# Escribe tu nueva función\n",
    "def mission_report(destination, *minutes, **fuel_reservoirs):\n",
    "  main_report = f\"\"\"\n",
    "  Mission to {destination}\n",
    "  Total travel time: {sum(minutes)} minutes\n",
    "  Total fuel left: {sum(fuel_reservoirs.values())}\n",
    "  \"\"\"\n",
    "  for tank_name, gallons in fuel_reservoirs.items():\n",
    "      main_report += f\"{tank_name} tank --> {gallons} gallons left\\n\"\n",
    "  return main_report\n",
    "\n",
    "print(mission_report(\"Moon\", 8, 11, 55, main=300000, external=200000))"
   ]
  }
 ],
 "metadata": {
  "interpreter": {
   "hash": "56b435c5857595d239cc6ea193352b41e48dd60dcf9b18ee2cabfe957593b84b"
  },
  "kernelspec": {
   "display_name": "Python 3.10.2 64-bit",
   "language": "python",
   "name": "python3"
  },
  "language_info": {
   "codemirror_mode": {
    "name": "ipython",
    "version": 3
   },
   "file_extension": ".py",
   "mimetype": "text/x-python",
   "name": "python",
   "nbconvert_exporter": "python",
   "pygments_lexer": "ipython3",
   "version": "3.10.2"
  },
  "orig_nbformat": 4
 },
 "nbformat": 4,
 "nbformat_minor": 2
}
