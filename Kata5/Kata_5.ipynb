{
 "cells": [
  {
   "cell_type": "markdown",
   "metadata": {},
   "source": [
    "Ejercicio 1"
   ]
  },
  {
   "cell_type": "code",
   "execution_count": null,
   "metadata": {},
   "outputs": [],
   "source": [
    "planeta_1= float(input(\"Ingresa la distancia del sol del primer planeta: \"))\n",
    "planeta_2= float(input(\"Ingresa la distancia del sol del segundo planeta: \"))\n",
    "resultado=abs(planeta_1-planeta_2)\n",
    "print(f\"La distancia de los planetas es de:\\n Kilometros: {resultado}\\n Millas: {resultado*0.621}\")"
   ]
  },
  {
   "cell_type": "markdown",
   "metadata": {},
   "source": [
    "Ejercicio 2"
   ]
  },
  {
   "cell_type": "code",
   "execution_count": null,
   "metadata": {},
   "outputs": [],
   "source": [
    "planeta_1= int(input(\"Ingresa la distancia del sol del primer planeta: \"))\n",
    "planeta_2= int(input(\"Ingresa la distancia del sol del segundo planeta: \"))\n",
    "resultado=abs(planeta_1-planeta_2)\n",
    "print(f\"La distancia de los planetas es de:\\n Kilometros: {resultado}\\n Millas: {resultado*0.621}\")"
   ]
  }
 ],
 "metadata": {
  "interpreter": {
   "hash": "7ffe099857eb267427c638778c9ca67e17f1b3f3bea6ca478a8a728487ebe9aa"
  },
  "kernelspec": {
   "display_name": "Python 3.10.2 64-bit",
   "language": "python",
   "name": "python3"
  },
  "language_info": {
   "codemirror_mode": {
    "name": "ipython",
    "version": 3
   },
   "file_extension": ".py",
   "mimetype": "text/x-python",
   "name": "python",
   "nbconvert_exporter": "python",
   "pygments_lexer": "ipython3",
   "version": "3.10.2"
  },
  "orig_nbformat": 4
 },
 "nbformat": 4,
 "nbformat_minor": 2
}
